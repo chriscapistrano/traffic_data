{
 "cells": [
  {
   "cell_type": "code",
   "execution_count": 79,
   "metadata": {},
   "outputs": [
    {
     "data": {
      "text/html": [
       "<div>\n",
       "<style scoped>\n",
       "    .dataframe tbody tr th:only-of-type {\n",
       "        vertical-align: middle;\n",
       "    }\n",
       "\n",
       "    .dataframe tbody tr th {\n",
       "        vertical-align: top;\n",
       "    }\n",
       "\n",
       "    .dataframe thead th {\n",
       "        text-align: right;\n",
       "    }\n",
       "</style>\n",
       "<table border=\"1\" class=\"dataframe\">\n",
       "  <thead>\n",
       "    <tr style=\"text-align: right;\">\n",
       "      <th></th>\n",
       "      <th>STATE</th>\n",
       "      <th>ST_CASE</th>\n",
       "      <th>VE_TOTAL</th>\n",
       "      <th>VE_FORMS</th>\n",
       "      <th>PVH_INVL</th>\n",
       "      <th>PEDS</th>\n",
       "      <th>PERNOTMVIT</th>\n",
       "      <th>PERMVIT</th>\n",
       "      <th>PERSONS</th>\n",
       "      <th>COUNTY</th>\n",
       "      <th>...</th>\n",
       "      <th>NOT_MIN</th>\n",
       "      <th>ARR_HOUR</th>\n",
       "      <th>ARR_MIN</th>\n",
       "      <th>HOSP_HR</th>\n",
       "      <th>HOSP_MN</th>\n",
       "      <th>CF1</th>\n",
       "      <th>CF2</th>\n",
       "      <th>CF3</th>\n",
       "      <th>FATALS</th>\n",
       "      <th>DRUNK_DR</th>\n",
       "    </tr>\n",
       "  </thead>\n",
       "  <tbody>\n",
       "    <tr>\n",
       "      <th>0</th>\n",
       "      <td>1</td>\n",
       "      <td>10001</td>\n",
       "      <td>1</td>\n",
       "      <td>1</td>\n",
       "      <td>0</td>\n",
       "      <td>0</td>\n",
       "      <td>0</td>\n",
       "      <td>1</td>\n",
       "      <td>1</td>\n",
       "      <td>127</td>\n",
       "      <td>...</td>\n",
       "      <td>99</td>\n",
       "      <td>2</td>\n",
       "      <td>58</td>\n",
       "      <td>88</td>\n",
       "      <td>88</td>\n",
       "      <td>0</td>\n",
       "      <td>0</td>\n",
       "      <td>0</td>\n",
       "      <td>1</td>\n",
       "      <td>1</td>\n",
       "    </tr>\n",
       "    <tr>\n",
       "      <th>1</th>\n",
       "      <td>1</td>\n",
       "      <td>10002</td>\n",
       "      <td>1</td>\n",
       "      <td>1</td>\n",
       "      <td>0</td>\n",
       "      <td>0</td>\n",
       "      <td>0</td>\n",
       "      <td>1</td>\n",
       "      <td>1</td>\n",
       "      <td>83</td>\n",
       "      <td>...</td>\n",
       "      <td>99</td>\n",
       "      <td>22</td>\n",
       "      <td>20</td>\n",
       "      <td>88</td>\n",
       "      <td>88</td>\n",
       "      <td>0</td>\n",
       "      <td>0</td>\n",
       "      <td>0</td>\n",
       "      <td>1</td>\n",
       "      <td>0</td>\n",
       "    </tr>\n",
       "    <tr>\n",
       "      <th>2</th>\n",
       "      <td>1</td>\n",
       "      <td>10003</td>\n",
       "      <td>1</td>\n",
       "      <td>1</td>\n",
       "      <td>0</td>\n",
       "      <td>0</td>\n",
       "      <td>0</td>\n",
       "      <td>2</td>\n",
       "      <td>2</td>\n",
       "      <td>11</td>\n",
       "      <td>...</td>\n",
       "      <td>99</td>\n",
       "      <td>1</td>\n",
       "      <td>45</td>\n",
       "      <td>99</td>\n",
       "      <td>99</td>\n",
       "      <td>0</td>\n",
       "      <td>0</td>\n",
       "      <td>0</td>\n",
       "      <td>1</td>\n",
       "      <td>1</td>\n",
       "    </tr>\n",
       "    <tr>\n",
       "      <th>3</th>\n",
       "      <td>1</td>\n",
       "      <td>10004</td>\n",
       "      <td>1</td>\n",
       "      <td>1</td>\n",
       "      <td>0</td>\n",
       "      <td>0</td>\n",
       "      <td>0</td>\n",
       "      <td>1</td>\n",
       "      <td>1</td>\n",
       "      <td>45</td>\n",
       "      <td>...</td>\n",
       "      <td>99</td>\n",
       "      <td>1</td>\n",
       "      <td>15</td>\n",
       "      <td>88</td>\n",
       "      <td>88</td>\n",
       "      <td>0</td>\n",
       "      <td>0</td>\n",
       "      <td>0</td>\n",
       "      <td>1</td>\n",
       "      <td>1</td>\n",
       "    </tr>\n",
       "    <tr>\n",
       "      <th>4</th>\n",
       "      <td>1</td>\n",
       "      <td>10005</td>\n",
       "      <td>2</td>\n",
       "      <td>2</td>\n",
       "      <td>0</td>\n",
       "      <td>0</td>\n",
       "      <td>0</td>\n",
       "      <td>2</td>\n",
       "      <td>2</td>\n",
       "      <td>45</td>\n",
       "      <td>...</td>\n",
       "      <td>99</td>\n",
       "      <td>7</td>\n",
       "      <td>16</td>\n",
       "      <td>88</td>\n",
       "      <td>88</td>\n",
       "      <td>0</td>\n",
       "      <td>0</td>\n",
       "      <td>0</td>\n",
       "      <td>1</td>\n",
       "      <td>0</td>\n",
       "    </tr>\n",
       "  </tbody>\n",
       "</table>\n",
       "<p>5 rows × 52 columns</p>\n",
       "</div>"
      ],
      "text/plain": [
       "   STATE  ST_CASE  VE_TOTAL  VE_FORMS  PVH_INVL  PEDS  PERNOTMVIT  PERMVIT  \\\n",
       "0      1    10001         1         1         0     0           0        1   \n",
       "1      1    10002         1         1         0     0           0        1   \n",
       "2      1    10003         1         1         0     0           0        2   \n",
       "3      1    10004         1         1         0     0           0        1   \n",
       "4      1    10005         2         2         0     0           0        2   \n",
       "\n",
       "   PERSONS  COUNTY    ...     NOT_MIN  ARR_HOUR  ARR_MIN  HOSP_HR  HOSP_MN  \\\n",
       "0        1     127    ...          99         2       58       88       88   \n",
       "1        1      83    ...          99        22       20       88       88   \n",
       "2        2      11    ...          99         1       45       99       99   \n",
       "3        1      45    ...          99         1       15       88       88   \n",
       "4        2      45    ...          99         7       16       88       88   \n",
       "\n",
       "   CF1  CF2  CF3  FATALS  DRUNK_DR  \n",
       "0    0    0    0       1         1  \n",
       "1    0    0    0       1         0  \n",
       "2    0    0    0       1         1  \n",
       "3    0    0    0       1         1  \n",
       "4    0    0    0       1         0  \n",
       "\n",
       "[5 rows x 52 columns]"
      ]
     },
     "execution_count": 79,
     "metadata": {},
     "output_type": "execute_result"
    }
   ],
   "source": [
    "import pandas as pd\n",
    "import requests \n",
    "import csv\n",
    "import numpy as np\n",
    "import matplotlib.pyplot as plt\n",
    "import gmaps\n",
    "from config import gkey\n",
    "gmaps.configure(api_key=gkey)\n",
    "\n",
    "traffic_data = pd.read_csv(\"../accident.csv\")\n",
    "traffic_data.head()"
   ]
  },
  {
   "cell_type": "code",
   "execution_count": 2,
   "metadata": {},
   "outputs": [
    {
     "data": {
      "text/html": [
       "<div>\n",
       "<style scoped>\n",
       "    .dataframe tbody tr th:only-of-type {\n",
       "        vertical-align: middle;\n",
       "    }\n",
       "\n",
       "    .dataframe tbody tr th {\n",
       "        vertical-align: top;\n",
       "    }\n",
       "\n",
       "    .dataframe thead th {\n",
       "        text-align: right;\n",
       "    }\n",
       "</style>\n",
       "<table border=\"1\" class=\"dataframe\">\n",
       "  <thead>\n",
       "    <tr style=\"text-align: right;\">\n",
       "      <th></th>\n",
       "      <th>STATE</th>\n",
       "      <th>ST_CASE</th>\n",
       "      <th>MONTH</th>\n",
       "      <th>DAY</th>\n",
       "      <th>FATALS</th>\n",
       "    </tr>\n",
       "  </thead>\n",
       "  <tbody>\n",
       "    <tr>\n",
       "      <th>5269</th>\n",
       "      <td>8</td>\n",
       "      <td>80001</td>\n",
       "      <td>1</td>\n",
       "      <td>1</td>\n",
       "      <td>1</td>\n",
       "    </tr>\n",
       "    <tr>\n",
       "      <th>5270</th>\n",
       "      <td>8</td>\n",
       "      <td>80002</td>\n",
       "      <td>1</td>\n",
       "      <td>3</td>\n",
       "      <td>1</td>\n",
       "    </tr>\n",
       "    <tr>\n",
       "      <th>5271</th>\n",
       "      <td>8</td>\n",
       "      <td>80003</td>\n",
       "      <td>1</td>\n",
       "      <td>4</td>\n",
       "      <td>1</td>\n",
       "    </tr>\n",
       "    <tr>\n",
       "      <th>5272</th>\n",
       "      <td>8</td>\n",
       "      <td>80004</td>\n",
       "      <td>1</td>\n",
       "      <td>5</td>\n",
       "      <td>1</td>\n",
       "    </tr>\n",
       "    <tr>\n",
       "      <th>5273</th>\n",
       "      <td>8</td>\n",
       "      <td>80005</td>\n",
       "      <td>1</td>\n",
       "      <td>6</td>\n",
       "      <td>1</td>\n",
       "    </tr>\n",
       "  </tbody>\n",
       "</table>\n",
       "</div>"
      ],
      "text/plain": [
       "      STATE  ST_CASE  MONTH  DAY  FATALS\n",
       "5269      8    80001      1    1       1\n",
       "5270      8    80002      1    3       1\n",
       "5271      8    80003      1    4       1\n",
       "5272      8    80004      1    5       1\n",
       "5273      8    80005      1    6       1"
      ]
     },
     "execution_count": 2,
     "metadata": {},
     "output_type": "execute_result"
    }
   ],
   "source": [
    "fatal_month_df = traffic_data[[\"STATE\", \"ST_CASE\", \"MONTH\", \"DAY\", \"FATALS\"]]\n",
    "fatal_month_df = fatal_month_df.loc[fatal_month_df['STATE'] == 8, :]\n",
    "fatal_month_df.head()"
   ]
  },
  {
   "cell_type": "code",
   "execution_count": 3,
   "metadata": {},
   "outputs": [
    {
     "data": {
      "text/plain": [
       "1     42\n",
       "2     32\n",
       "3     35\n",
       "4     47\n",
       "5     39\n",
       "6     43\n",
       "7     48\n",
       "8     45\n",
       "9     71\n",
       "10    45\n",
       "11    32\n",
       "12    28\n",
       "Name: MONTH, dtype: int64"
      ]
     },
     "execution_count": 3,
     "metadata": {},
     "output_type": "execute_result"
    }
   ],
   "source": [
    "fatalities_per_month = fatal_month_df['MONTH'].value_counts()\n",
    "fatal_per_month = fatalities_per_month.sort_index()\n",
    "fatal_per_month"
   ]
  },
  {
   "cell_type": "code",
   "execution_count": 69,
   "metadata": {},
   "outputs": [
    {
     "data": {
      "image/png": "[encoded data removed]",
      "text/plain": [
       "<Figure size 432x288 with 1 Axes>"
      ]
     },
     "metadata": {},
     "output_type": "display_data"
    }
   ],
   "source": [
    "fatal_per_month.plot.bar(color=\"blue\")\n",
    "\n",
    "plt.title('Fatalities Depending on the Month in 2015')\n",
    "plt.xlabel('Month')\n",
    "plt.ylabel('Fatalities')\n",
    "#plt.figure(figsize=(30,10))\n",
    "plt.xticks(np.arange(12), (\"January\", \"February\", \"March\", \"April\", \"May\", \"June\", \"July\", \"August\", \"September\", \"October\", \"November\", \"December\"), rotation=45)\n",
    "plt.tight_layout()\n",
    "plt.savefig(\"Fatalities_Per_Month.png\")\n"
   ]
  },
  {
   "cell_type": "code",
   "execution_count": 34,
   "metadata": {},
   "outputs": [
    {
     "data": {
      "image/png": "[encoded data removed]",
      "text/plain": [
       "<Figure size 432x288 with 1 Axes>"
      ]
     },
     "metadata": {},
     "output_type": "display_data"
    }
   ],
   "source": [
    "fatal_month1_df = fatal_month_df.loc[fatal_month_df['MONTH'] == 1, :]\n",
    "\n",
    "fatal_month1_df = fatal_month1_df['DAY'].value_counts()\n",
    "fatal_month_one = fatal_month1_df.sort_index()\n",
    "\n",
    "plt.title('Fatalities in January 2015')\n",
    "plt.xlabel('Day of the Month')\n",
    "plt.ylabel('Fatalities')\n",
    "fatal_month_one.plot.bar()\n",
    "plt.savefig(\"Fatalities_Month_One.png\")"
   ]
  },
  {
   "cell_type": "code",
   "execution_count": 35,
   "metadata": {},
   "outputs": [
    {
     "data": {
      "image/png": "[encoded data removed]",
      "text/plain": [
       "<Figure size 432x288 with 1 Axes>"
      ]
     },
     "metadata": {},
     "output_type": "display_data"
    }
   ],
   "source": [
    "fatal_month2_df = fatal_month_df.loc[fatal_month_df['MONTH'] == 2, :]\n",
    "\n",
    "fatal_month2_df = fatal_month2_df['DAY'].value_counts()\n",
    "fatal_month_two = fatal_month2_df.sort_index()\n",
    "\n",
    "plt.title('Fatalities in February 2015')\n",
    "plt.xlabel('Day of the Month')\n",
    "plt.ylabel('Fatalities')\n",
    "\n",
    "fatal_month_two.plot.bar()\n",
    "plt.savefig(\"Fatalities_Month_Two.png\")"
   ]
  },
  {
   "cell_type": "code",
   "execution_count": 36,
   "metadata": {},
   "outputs": [
    {
     "data": {
      "image/png": "[encoded data removed]",
      "text/plain": [
       "<Figure size 432x288 with 1 Axes>"
      ]
     },
     "metadata": {},
     "output_type": "display_data"
    }
   ],
   "source": [
    "fatal_month3_df = fatal_month_df.loc[fatal_month_df['MONTH'] == 3, :]\n",
    "\n",
    "fatal_month3_df = fatal_month3_df['DAY'].value_counts()\n",
    "fatal_month_three = fatal_month3_df.sort_index()\n",
    "\n",
    "plt.title('Fatalities in March 2015')\n",
    "plt.xlabel('Day of the Month')\n",
    "plt.ylabel('Fatalities')\n",
    "\n",
    "fatal_month_three.plot.bar()\n",
    "plt.savefig(\"Fatalities_Month_Three.png\")"
   ]
  },
  {
   "cell_type": "code",
   "execution_count": 37,
   "metadata": {},
   "outputs": [
    {
     "data": {
      "image/png": "[encoded data removed]",
      "text/plain": [
       "<Figure size 432x288 with 1 Axes>"
      ]
     },
     "metadata": {},
     "output_type": "display_data"
    }
   ],
   "source": [
    "fatal_month4_df = fatal_month_df.loc[fatal_month_df['MONTH'] == 4, :]\n",
    "\n",
    "fatal_month4_df = fatal_month4_df['DAY'].value_counts()\n",
    "fatal_month_four = fatal_month4_df.sort_index()\n",
    "\n",
    "plt.title('Fatalities in April 2015')\n",
    "plt.xlabel('Day of the Month')\n",
    "plt.ylabel('Fatalities')\n",
    "\n",
    "fatal_month_four.plot.bar()\n",
    "plt.savefig(\"Fatalities_Month_Four.png\")"
   ]
  },
  {
   "cell_type": "code",
   "execution_count": 38,
   "metadata": {},
   "outputs": [
    {
     "data": {
      "image/png": "[encoded data removed]",
      "text/plain": [
       "<Figure size 432x288 with 1 Axes>"
      ]
     },
     "metadata": {},
     "output_type": "display_data"
    }
   ],
   "source": [
    "fatal_month5_df = fatal_month_df.loc[fatal_month_df['MONTH'] == 5, :]\n",
    "\n",
    "fatal_month5_df = fatal_month5_df['DAY'].value_counts()\n",
    "fatal_month_five = fatal_month5_df.sort_index()\n",
    "\n",
    "plt.title('Fatalities in May 2015')\n",
    "plt.xlabel('Day of the Month')\n",
    "plt.ylabel('Fatalities')\n",
    "\n",
    "fatal_month_five.plot.bar()\n",
    "plt.savefig(\"Fatalities_Month_Five.png\")"
   ]
  },
  {
   "cell_type": "code",
   "execution_count": 39,
   "metadata": {},
   "outputs": [
    {
     "data": {
      "image/png": "[encoded data removed]",
      "text/plain": [
       "<Figure size 432x288 with 1 Axes>"
      ]
     },
     "metadata": {},
     "output_type": "display_data"
    }
   ],
   "source": [
    "fatal_month6_df = fatal_month_df.loc[fatal_month_df['MONTH'] == 6, :]\n",
    "\n",
    "fatal_month6_df = fatal_month6_df['DAY'].value_counts()\n",
    "fatal_month_six = fatal_month6_df.sort_index()\n",
    "\n",
    "plt.title('Fatalities in June 2015')\n",
    "plt.xlabel('Day of the Month')\n",
    "plt.ylabel('Fatalities')\n",
    "\n",
    "fatal_month_six.plot.bar()\n",
    "plt.savefig(\"Fatalities_Month_Six.png\")"
   ]
  },
  {
   "cell_type": "code",
   "execution_count": 40,
   "metadata": {},
   "outputs": [
    {
     "data": {
      "image/png": "[encoded data removed]",
      "text/plain": [
       "<Figure size 432x288 with 1 Axes>"
      ]
     },
     "metadata": {},
     "output_type": "display_data"
    }
   ],
   "source": [
    "fatal_month7_df = fatal_month_df.loc[fatal_month_df['MONTH'] == 7, :]\n",
    "\n",
    "fatal_month7_df = fatal_month7_df['DAY'].value_counts()\n",
    "fatal_month_seven = fatal_month7_df.sort_index()\n",
    "\n",
    "plt.title('Fatalities in July 2015')\n",
    "plt.xlabel('Day of the Month')\n",
    "plt.ylabel('Fatalities')\n",
    "\n",
    "fatal_month_seven.plot.bar()\n",
    "plt.savefig(\"Fatalities_Month_Seven.png\")"
   ]
  },
  {
   "cell_type": "code",
   "execution_count": 41,
   "metadata": {},
   "outputs": [
    {
     "data": {
      "image/png": "[encoded data removed]",
      "text/plain": [
       "<Figure size 432x288 with 1 Axes>"
      ]
     },
     "metadata": {},
     "output_type": "display_data"
    }
   ],
   "source": [
    "fatal_month8_df = fatal_month_df.loc[fatal_month_df['MONTH'] == 8, :]\n",
    "\n",
    "fatal_month8_df = fatal_month8_df['DAY'].value_counts()\n",
    "fatal_month_eight = fatal_month8_df.sort_index()\n",
    "\n",
    "plt.title('Fatalities in August 2015')\n",
    "plt.xlabel('Day of the Month')\n",
    "plt.ylabel('Fatalities')\n",
    "\n",
    "fatal_month_eight.plot.bar()\n",
    "plt.savefig(\"Fatalities_Month_Eight.png\")"
   ]
  },
  {
   "cell_type": "code",
   "execution_count": 70,
   "metadata": {},
   "outputs": [
    {
     "data": {
      "image/png": "[encoded data removed]",
      "text/plain": [
       "<Figure size 432x288 with 1 Axes>"
      ]
     },
     "metadata": {},
     "output_type": "display_data"
    }
   ],
   "source": [
    "fatal_month9_df = fatal_month_df.loc[fatal_month_df['MONTH'] == 9, :]\n",
    "\n",
    "fatal_month9_df = fatal_month9_df['DAY'].value_counts()\n",
    "fatal_month_nine = fatal_month9_df.sort_index()\n",
    "\n",
    "plt.title('Fatalities in September 2015')\n",
    "plt.xlabel('Day of the Month')\n",
    "plt.ylabel('Fatalities')\n",
    "\n",
    "fatal_month_nine.plot.bar(color=\"blue\")\n",
    "plt.savefig(\"Fatalities_Month_Nine.png\")"
   ]
  },
  {
   "cell_type": "code",
   "execution_count": 71,
   "metadata": {},
   "outputs": [
    {
     "data": {
      "image/png": "[encoded data removed]",
      "text/plain": [
       "<Figure size 432x288 with 1 Axes>"
      ]
     },
     "metadata": {},
     "output_type": "display_data"
    }
   ],
   "source": [
    "fatal_month10_df = fatal_month_df.loc[fatal_month_df['MONTH'] == 10, :]\n",
    "\n",
    "fatal_month10_df = fatal_month10_df['DAY'].value_counts()\n",
    "fatal_month_ten = fatal_month10_df.sort_index()\n",
    "\n",
    "plt.title('Fatalities in October 2015')\n",
    "plt.xlabel('Day of the Month')\n",
    "plt.ylabel('Fatalities')\n",
    "\n",
    "fatal_month_ten.plot.bar(color=\"blue\")\n",
    "plt.savefig(\"Fatalities_Month_Ten.png\")"
   ]
  },
  {
   "cell_type": "code",
   "execution_count": 72,
   "metadata": {},
   "outputs": [
    {
     "data": {
      "image/png": "[encoded data removed]",
      "text/plain": [
       "<Figure size 432x288 with 1 Axes>"
      ]
     },
     "metadata": {},
     "output_type": "display_data"
    }
   ],
   "source": [
    "fatal_month11_df = fatal_month_df.loc[fatal_month_df['MONTH'] == 11, :]\n",
    "\n",
    "fatal_month11_df = fatal_month11_df['DAY'].value_counts()\n",
    "fatal_month_eleven = fatal_month11_df.sort_index()\n",
    "\n",
    "plt.title('Fatalities in November 2015')\n",
    "plt.xlabel('Day of the Month')\n",
    "plt.ylabel('Fatalities')\n",
    "\n",
    "fatal_month_eleven.plot.bar(color=\"blue\")\n",
    "plt.savefig(\"Fatalities_Month_Eleven.png\")"
   ]
  },
  {
   "cell_type": "code",
   "execution_count": 45,
   "metadata": {
    "scrolled": true
   },
   "outputs": [
    {
     "data": {
      "image/png": "[encoded data removed]",
      "text/plain": [
       "<Figure size 432x288 with 1 Axes>"
      ]
     },
     "metadata": {},
     "output_type": "display_data"
    }
   ],
   "source": [
    "\n",
    "fatal_month12_df = fatal_month_df.loc[fatal_month_df['MONTH'] == 12, :]\n",
    "\n",
    "fatal_month12_df = fatal_month12_df['DAY'].value_counts()\n",
    "fatal_month_twelve = fatal_month12_df.sort_index()\n",
    "\n",
    "plt.title('Fatalities in December 2015')\n",
    "plt.xlabel('Day of the Month')\n",
    "plt.ylabel('Fatalities')\n",
    "\n",
    "fatal_month_twelve.plot.bar()\n",
    "plt.savefig(\"Fatalities_Month_Twelve.png\")"
   ]
  },
  {
   "cell_type": "code",
   "execution_count": 17,
   "metadata": {},
   "outputs": [
    {
     "data": {
      "text/html": [
       "<div>\n",
       "<style scoped>\n",
       "    .dataframe tbody tr th:only-of-type {\n",
       "        vertical-align: middle;\n",
       "    }\n",
       "\n",
       "    .dataframe tbody tr th {\n",
       "        vertical-align: top;\n",
       "    }\n",
       "\n",
       "    .dataframe thead th {\n",
       "        text-align: right;\n",
       "    }\n",
       "</style>\n",
       "<table border=\"1\" class=\"dataframe\">\n",
       "  <thead>\n",
       "    <tr style=\"text-align: right;\">\n",
       "      <th></th>\n",
       "      <th>STATE</th>\n",
       "      <th>ST_CASE</th>\n",
       "      <th>MONTH</th>\n",
       "      <th>DAY</th>\n",
       "      <th>FATALS</th>\n",
       "    </tr>\n",
       "  </thead>\n",
       "  <tbody>\n",
       "    <tr>\n",
       "      <th>5269</th>\n",
       "      <td>8</td>\n",
       "      <td>80001</td>\n",
       "      <td>1</td>\n",
       "      <td>1</td>\n",
       "      <td>1</td>\n",
       "    </tr>\n",
       "    <tr>\n",
       "      <th>5270</th>\n",
       "      <td>8</td>\n",
       "      <td>80002</td>\n",
       "      <td>1</td>\n",
       "      <td>3</td>\n",
       "      <td>1</td>\n",
       "    </tr>\n",
       "    <tr>\n",
       "      <th>5271</th>\n",
       "      <td>8</td>\n",
       "      <td>80003</td>\n",
       "      <td>1</td>\n",
       "      <td>4</td>\n",
       "      <td>1</td>\n",
       "    </tr>\n",
       "    <tr>\n",
       "      <th>5272</th>\n",
       "      <td>8</td>\n",
       "      <td>80004</td>\n",
       "      <td>1</td>\n",
       "      <td>5</td>\n",
       "      <td>1</td>\n",
       "    </tr>\n",
       "    <tr>\n",
       "      <th>5273</th>\n",
       "      <td>8</td>\n",
       "      <td>80005</td>\n",
       "      <td>1</td>\n",
       "      <td>6</td>\n",
       "      <td>1</td>\n",
       "    </tr>\n",
       "  </tbody>\n",
       "</table>\n",
       "</div>"
      ],
      "text/plain": [
       "      STATE  ST_CASE  MONTH  DAY  FATALS\n",
       "5269      8    80001      1    1       1\n",
       "5270      8    80002      1    3       1\n",
       "5271      8    80003      1    4       1\n",
       "5272      8    80004      1    5       1\n",
       "5273      8    80005      1    6       1"
      ]
     },
     "execution_count": 17,
     "metadata": {},
     "output_type": "execute_result"
    }
   ],
   "source": [
    "fatal_day_df = traffic_data[[\"STATE\", \"ST_CASE\", \"MONTH\", \"DAY\", \"FATALS\"]]\n",
    "fatal_day_df = fatal_day_df.loc[fatal_day_df['STATE'] == 8, :]\n",
    "fatal_day_df.head()"
   ]
  },
  {
   "cell_type": "code",
   "execution_count": 18,
   "metadata": {},
   "outputs": [
    {
     "data": {
      "text/plain": [
       "1     17\n",
       "2     16\n",
       "3     30\n",
       "4     14\n",
       "5     15\n",
       "6     23\n",
       "7     14\n",
       "8     11\n",
       "9     12\n",
       "10    18\n",
       "11    24\n",
       "12    25\n",
       "13    10\n",
       "14    17\n",
       "15     9\n",
       "16    17\n",
       "17    20\n",
       "18     9\n",
       "19    26\n",
       "20     9\n",
       "21    20\n",
       "22    13\n",
       "23    19\n",
       "24    16\n",
       "25    24\n",
       "26    15\n",
       "27    12\n",
       "28    16\n",
       "29    16\n",
       "30    13\n",
       "31     7\n",
       "Name: DAY, dtype: int64"
      ]
     },
     "execution_count": 18,
     "metadata": {},
     "output_type": "execute_result"
    }
   ],
   "source": [
    "\n",
    "fatalities_per_day = fatal_day_df[\"DAY\"].value_counts()\n",
    "fatalities_day = fatalities_per_day.sort_index()\n",
    "fatalities_day"
   ]
  },
  {
   "cell_type": "code",
   "execution_count": 73,
   "metadata": {},
   "outputs": [
    {
     "data": {
      "image/png": "[encoded data removed]",
      "text/plain": [
       "<Figure size 432x288 with 1 Axes>"
      ]
     },
     "metadata": {},
     "output_type": "display_data"
    }
   ],
   "source": [
    "plt.title('Fatalities in By Day in 2015')\n",
    "plt.xlabel('Days')\n",
    "plt.ylabel('Fatalities')\n",
    "\n",
    "fatalities_day.plot.bar(color=\"blue\")\n",
    "plt.savefig(\"Fatalities_Per_Day.png\")"
   ]
  },
  {
   "cell_type": "code",
   "execution_count": 20,
   "metadata": {},
   "outputs": [
    {
     "data": {
      "text/html": [
       "<div>\n",
       "<style scoped>\n",
       "    .dataframe tbody tr th:only-of-type {\n",
       "        vertical-align: middle;\n",
       "    }\n",
       "\n",
       "    .dataframe tbody tr th {\n",
       "        vertical-align: top;\n",
       "    }\n",
       "\n",
       "    .dataframe thead th {\n",
       "        text-align: right;\n",
       "    }\n",
       "</style>\n",
       "<table border=\"1\" class=\"dataframe\">\n",
       "  <thead>\n",
       "    <tr style=\"text-align: right;\">\n",
       "      <th></th>\n",
       "      <th>STATE</th>\n",
       "      <th>ST_CASE</th>\n",
       "      <th>MONTH</th>\n",
       "      <th>HOUR</th>\n",
       "      <th>FATALS</th>\n",
       "    </tr>\n",
       "  </thead>\n",
       "  <tbody>\n",
       "    <tr>\n",
       "      <th>5269</th>\n",
       "      <td>8</td>\n",
       "      <td>80001</td>\n",
       "      <td>1</td>\n",
       "      <td>4</td>\n",
       "      <td>1</td>\n",
       "    </tr>\n",
       "    <tr>\n",
       "      <th>5270</th>\n",
       "      <td>8</td>\n",
       "      <td>80002</td>\n",
       "      <td>1</td>\n",
       "      <td>14</td>\n",
       "      <td>1</td>\n",
       "    </tr>\n",
       "    <tr>\n",
       "      <th>5271</th>\n",
       "      <td>8</td>\n",
       "      <td>80003</td>\n",
       "      <td>1</td>\n",
       "      <td>18</td>\n",
       "      <td>1</td>\n",
       "    </tr>\n",
       "    <tr>\n",
       "      <th>5272</th>\n",
       "      <td>8</td>\n",
       "      <td>80004</td>\n",
       "      <td>1</td>\n",
       "      <td>20</td>\n",
       "      <td>1</td>\n",
       "    </tr>\n",
       "    <tr>\n",
       "      <th>5273</th>\n",
       "      <td>8</td>\n",
       "      <td>80005</td>\n",
       "      <td>1</td>\n",
       "      <td>12</td>\n",
       "      <td>1</td>\n",
       "    </tr>\n",
       "  </tbody>\n",
       "</table>\n",
       "</div>"
      ],
      "text/plain": [
       "      STATE  ST_CASE  MONTH  HOUR  FATALS\n",
       "5269      8    80001      1     4       1\n",
       "5270      8    80002      1    14       1\n",
       "5271      8    80003      1    18       1\n",
       "5272      8    80004      1    20       1\n",
       "5273      8    80005      1    12       1"
      ]
     },
     "execution_count": 20,
     "metadata": {},
     "output_type": "execute_result"
    }
   ],
   "source": [
    "fatal_hour_df = traffic_data[[\"STATE\", \"ST_CASE\", \"MONTH\", \"HOUR\", \"FATALS\"]]\n",
    "fatal_hour_df = fatal_hour_df.loc[fatal_hour_df['STATE'] == 8, :]\n",
    "\n",
    "fatal_hour_df.head()"
   ]
  },
  {
   "cell_type": "code",
   "execution_count": 21,
   "metadata": {},
   "outputs": [
    {
     "data": {
      "text/plain": [
       "0     16\n",
       "1     30\n",
       "2     17\n",
       "3      6\n",
       "4      8\n",
       "5     12\n",
       "6     21\n",
       "7     17\n",
       "8     18\n",
       "9     15\n",
       "10    15\n",
       "11    17\n",
       "12    29\n",
       "13    20\n",
       "14    28\n",
       "15    24\n",
       "16    29\n",
       "17    47\n",
       "18    26\n",
       "19    28\n",
       "20    33\n",
       "21    21\n",
       "22    16\n",
       "23    14\n",
       "Name: HOUR, dtype: int64"
      ]
     },
     "execution_count": 21,
     "metadata": {},
     "output_type": "execute_result"
    }
   ],
   "source": [
    "fatalities_per_hour = fatal_hour_df[\"HOUR\"].value_counts()\n",
    "fatalities_hour = fatalities_per_hour.sort_index()\n",
    "\n",
    "fatalities_hour"
   ]
  },
  {
   "cell_type": "code",
   "execution_count": 74,
   "metadata": {},
   "outputs": [
    {
     "data": {
      "image/png": "[encoded data removed]",
      "text/plain": [
       "<Figure size 432x288 with 1 Axes>"
      ]
     },
     "metadata": {},
     "output_type": "display_data"
    }
   ],
   "source": [
    "plt.title('Fatalities in By Hour in 2015')\n",
    "plt.xlabel('Hour of the Day in Military Time')\n",
    "plt.ylabel('Fatalities')\n",
    "\n",
    "\n",
    "fatalities_hour.plot.bar(color=\"blue\")\n",
    "plt.savefig(\"Fatalities_Per_Hour.png\")"
   ]
  },
  {
   "cell_type": "code",
   "execution_count": 23,
   "metadata": {},
   "outputs": [
    {
     "data": {
      "text/plain": [
       "I-70                   30\n",
       "I-25                   27\n",
       "I-76                   14\n",
       "US-85                  12\n",
       "US-160                 11\n",
       "US-287                 10\n",
       "US-50                   9\n",
       "US-285                  8\n",
       "US-6                    7\n",
       "US-24                   6\n",
       "US-550                  6\n",
       "US-40                   5\n",
       "US-34                   5\n",
       "SR-119                  5\n",
       "SR-94                   4\n",
       "US-36                   4\n",
       "SR-135                  4\n",
       "US-40  W COLFAX AVE     4\n",
       "SR-52                   4\n",
       "SR-9                    4\n",
       "Name: TWAY_ID, dtype: int64"
      ]
     },
     "execution_count": 23,
     "metadata": {},
     "output_type": "execute_result"
    }
   ],
   "source": [
    "fatal_hwy_df = traffic_data[[\"STATE\", \"CITY\", \"TWAY_ID\", \"TWAY_ID2\", \"FATALS\"]]\n",
    "fatal_hwy_df = fatal_hwy_df.loc[fatal_hwy_df['STATE'] == 8, :]\n",
    "fatal_hwy_df = fatal_hwy_df[\"TWAY_ID\"].value_counts()\n",
    "\n",
    "fatal_plot = fatal_hwy_df.head(20)\n",
    "fatal_plot"
   ]
  },
  {
   "cell_type": "code",
   "execution_count": 75,
   "metadata": {},
   "outputs": [
    {
     "data": {
      "image/png": "[encoded data removed]",
      "text/plain": [
       "<Figure size 432x288 with 1 Axes>"
      ]
     },
     "metadata": {},
     "output_type": "display_data"
    }
   ],
   "source": [
    "plt.title('Fatalities by Road in 2015')\n",
    "plt.ylabel('Road Name')\n",
    "plt.xlabel('Fatalities')\n",
    "\n",
    "fatal_plot.plot.barh(color=\"blue\")\n",
    "plt.tight_layout()\n",
    "plt.savefig(\"Fatalities_HWY.png\")"
   ]
  },
  {
   "cell_type": "code",
   "execution_count": 25,
   "metadata": {},
   "outputs": [],
   "source": [
    "#SR    9698\n",
    "#US    5398\n",
    "#CR    4928\n",
    "#I     3971\n",
    "#CS      48\n"
   ]
  },
  {
   "cell_type": "code",
   "execution_count": 26,
   "metadata": {},
   "outputs": [
    {
     "data": {
      "text/html": [
       "<div>\n",
       "<style scoped>\n",
       "    .dataframe tbody tr th:only-of-type {\n",
       "        vertical-align: middle;\n",
       "    }\n",
       "\n",
       "    .dataframe tbody tr th {\n",
       "        vertical-align: top;\n",
       "    }\n",
       "\n",
       "    .dataframe thead th {\n",
       "        text-align: right;\n",
       "    }\n",
       "</style>\n",
       "<table border=\"1\" class=\"dataframe\">\n",
       "  <thead>\n",
       "    <tr style=\"text-align: right;\">\n",
       "      <th></th>\n",
       "      <th>STATE</th>\n",
       "      <th>MONTH</th>\n",
       "      <th>DAY</th>\n",
       "      <th>LATITUDE</th>\n",
       "      <th>LONGITUD</th>\n",
       "      <th>FATALS</th>\n",
       "    </tr>\n",
       "  </thead>\n",
       "  <tbody>\n",
       "    <tr>\n",
       "      <th>5596</th>\n",
       "      <td>8</td>\n",
       "      <td>9</td>\n",
       "      <td>3</td>\n",
       "      <td>40.271281</td>\n",
       "      <td>-104.126889</td>\n",
       "      <td>1</td>\n",
       "    </tr>\n",
       "    <tr>\n",
       "      <th>5597</th>\n",
       "      <td>8</td>\n",
       "      <td>9</td>\n",
       "      <td>3</td>\n",
       "      <td>40.720056</td>\n",
       "      <td>-106.901667</td>\n",
       "      <td>1</td>\n",
       "    </tr>\n",
       "    <tr>\n",
       "      <th>5598</th>\n",
       "      <td>8</td>\n",
       "      <td>9</td>\n",
       "      <td>3</td>\n",
       "      <td>37.673611</td>\n",
       "      <td>-104.801861</td>\n",
       "      <td>1</td>\n",
       "    </tr>\n",
       "    <tr>\n",
       "      <th>5599</th>\n",
       "      <td>8</td>\n",
       "      <td>9</td>\n",
       "      <td>3</td>\n",
       "      <td>38.022417</td>\n",
       "      <td>-103.564444</td>\n",
       "      <td>2</td>\n",
       "    </tr>\n",
       "    <tr>\n",
       "      <th>5600</th>\n",
       "      <td>8</td>\n",
       "      <td>9</td>\n",
       "      <td>3</td>\n",
       "      <td>39.704931</td>\n",
       "      <td>-105.109778</td>\n",
       "      <td>1</td>\n",
       "    </tr>\n",
       "    <tr>\n",
       "      <th>5601</th>\n",
       "      <td>8</td>\n",
       "      <td>9</td>\n",
       "      <td>3</td>\n",
       "      <td>38.987983</td>\n",
       "      <td>-108.698997</td>\n",
       "      <td>1</td>\n",
       "    </tr>\n",
       "    <tr>\n",
       "      <th>5602</th>\n",
       "      <td>8</td>\n",
       "      <td>9</td>\n",
       "      <td>3</td>\n",
       "      <td>39.621758</td>\n",
       "      <td>-104.900278</td>\n",
       "      <td>1</td>\n",
       "    </tr>\n",
       "    <tr>\n",
       "      <th>5651</th>\n",
       "      <td>8</td>\n",
       "      <td>9</td>\n",
       "      <td>3</td>\n",
       "      <td>39.881989</td>\n",
       "      <td>-105.025244</td>\n",
       "      <td>1</td>\n",
       "    </tr>\n",
       "  </tbody>\n",
       "</table>\n",
       "</div>"
      ],
      "text/plain": [
       "      STATE  MONTH  DAY   LATITUDE    LONGITUD  FATALS\n",
       "5596      8      9    3  40.271281 -104.126889       1\n",
       "5597      8      9    3  40.720056 -106.901667       1\n",
       "5598      8      9    3  37.673611 -104.801861       1\n",
       "5599      8      9    3  38.022417 -103.564444       2\n",
       "5600      8      9    3  39.704931 -105.109778       1\n",
       "5601      8      9    3  38.987983 -108.698997       1\n",
       "5602      8      9    3  39.621758 -104.900278       1\n",
       "5651      8      9    3  39.881989 -105.025244       1"
      ]
     },
     "execution_count": 26,
     "metadata": {},
     "output_type": "execute_result"
    }
   ],
   "source": [
    "fatal_spot_df = traffic_data[[\"STATE\", \"MONTH\", \"DAY\", \"LATITUDE\", \"LONGITUD\", \"FATALS\"]]\n",
    "fatal_spot_df = fatal_spot_df.loc[fatal_spot_df['STATE'] == 8, :]\n",
    "fatal_spot_df = fatal_spot_df.loc[fatal_spot_df['MONTH'] == 9, :]\n",
    "fatal_spot_df = fatal_spot_df.loc[fatal_spot_df['DAY'] == 3, :]\n",
    "\n",
    "fatal_spot_df"
   ]
  },
  {
   "cell_type": "code",
   "execution_count": 80,
   "metadata": {},
   "outputs": [
    {
     "data": {
      "application/vnd.jupyter.widget-view+json": {
       "model_id": "b445707bf4c5485696094ab54030d92f",
       "version_major": 2,
       "version_minor": 0
      },
      "text/plain": [
       "Figure(layout=FigureLayout(height='420px'))"
      ]
     },
     "metadata": {},
     "output_type": "display_data"
    }
   ],
   "source": [
    "marker_locations = fatal_spot_df[['LATITUDE', 'LONGITUD']]\n",
    "\n",
    "# Create a marker_layer using the poverty list to fill the info box\n",
    "fig = gmaps.figure()\n",
    "markers = gmaps.marker_layer(marker_locations)\n",
    "fig.add_layer(markers)\n",
    "fig\n"
   ]
  },
  {
   "cell_type": "code",
   "execution_count": 28,
   "metadata": {},
   "outputs": [
    {
     "data": {
      "text/html": [
       "<div>\n",
       "<style scoped>\n",
       "    .dataframe tbody tr th:only-of-type {\n",
       "        vertical-align: middle;\n",
       "    }\n",
       "\n",
       "    .dataframe tbody tr th {\n",
       "        vertical-align: top;\n",
       "    }\n",
       "\n",
       "    .dataframe thead th {\n",
       "        text-align: right;\n",
       "    }\n",
       "</style>\n",
       "<table border=\"1\" class=\"dataframe\">\n",
       "  <thead>\n",
       "    <tr style=\"text-align: right;\">\n",
       "      <th></th>\n",
       "      <th>STATE</th>\n",
       "      <th>MONTH</th>\n",
       "      <th>DAY</th>\n",
       "      <th>TWAY_ID</th>\n",
       "      <th>LATITUDE</th>\n",
       "      <th>LONGITUD</th>\n",
       "      <th>FATALS</th>\n",
       "    </tr>\n",
       "  </thead>\n",
       "  <tbody>\n",
       "    <tr>\n",
       "      <th>5305</th>\n",
       "      <td>8</td>\n",
       "      <td>2</td>\n",
       "      <td>4</td>\n",
       "      <td>I-70</td>\n",
       "      <td>39.294631</td>\n",
       "      <td>-102.532778</td>\n",
       "      <td>1</td>\n",
       "    </tr>\n",
       "    <tr>\n",
       "      <th>5306</th>\n",
       "      <td>8</td>\n",
       "      <td>2</td>\n",
       "      <td>1</td>\n",
       "      <td>I-70</td>\n",
       "      <td>39.396072</td>\n",
       "      <td>-108.124167</td>\n",
       "      <td>1</td>\n",
       "    </tr>\n",
       "    <tr>\n",
       "      <th>5331</th>\n",
       "      <td>8</td>\n",
       "      <td>3</td>\n",
       "      <td>1</td>\n",
       "      <td>I-70</td>\n",
       "      <td>39.544814</td>\n",
       "      <td>-107.633056</td>\n",
       "      <td>1</td>\n",
       "    </tr>\n",
       "    <tr>\n",
       "      <th>5336</th>\n",
       "      <td>8</td>\n",
       "      <td>3</td>\n",
       "      <td>6</td>\n",
       "      <td>I-70</td>\n",
       "      <td>39.687500</td>\n",
       "      <td>-106.752222</td>\n",
       "      <td>1</td>\n",
       "    </tr>\n",
       "    <tr>\n",
       "      <th>5355</th>\n",
       "      <td>8</td>\n",
       "      <td>3</td>\n",
       "      <td>23</td>\n",
       "      <td>I-70</td>\n",
       "      <td>39.700444</td>\n",
       "      <td>-105.239514</td>\n",
       "      <td>1</td>\n",
       "    </tr>\n",
       "  </tbody>\n",
       "</table>\n",
       "</div>"
      ],
      "text/plain": [
       "      STATE  MONTH  DAY TWAY_ID   LATITUDE    LONGITUD  FATALS\n",
       "5305      8      2    4    I-70  39.294631 -102.532778       1\n",
       "5306      8      2    1    I-70  39.396072 -108.124167       1\n",
       "5331      8      3    1    I-70  39.544814 -107.633056       1\n",
       "5336      8      3    6    I-70  39.687500 -106.752222       1\n",
       "5355      8      3   23    I-70  39.700444 -105.239514       1"
      ]
     },
     "execution_count": 28,
     "metadata": {},
     "output_type": "execute_result"
    }
   ],
   "source": [
    "fatal_way_df = traffic_data[[\"STATE\", \"MONTH\", \"DAY\", \"TWAY_ID\", \"LATITUDE\", \"LONGITUD\", \"FATALS\"]]\n",
    "fatal_way_df = fatal_way_df.loc[fatal_way_df['STATE'] == 8, :]\n",
    "fatal_way_df = fatal_way_df.loc[fatal_way_df['TWAY_ID'] == \"I-70\", :]\n",
    "\n",
    "\n",
    "fatal_way_df.head()"
   ]
  },
  {
   "cell_type": "code",
   "execution_count": 81,
   "metadata": {},
   "outputs": [
    {
     "data": {
      "application/vnd.jupyter.widget-view+json": {
       "model_id": "da6944270acb4bb9a558e1d5845d3527",
       "version_major": 2,
       "version_minor": 0
      },
      "text/plain": [
       "Figure(layout=FigureLayout(height='420px'))"
      ]
     },
     "metadata": {},
     "output_type": "display_data"
    }
   ],
   "source": [
    "marker_locations = fatal_way_df[['LATITUDE', 'LONGITUD']]\n",
    "\n",
    "# Create a marker_layer using the poverty list to fill the info box\n",
    "fig = gmaps.figure()\n",
    "markers = gmaps.marker_layer(marker_locations)\n",
    "fig.add_layer(markers)\n",
    "fig"
   ]
  },
  {
   "cell_type": "code",
   "execution_count": 65,
   "metadata": {},
   "outputs": [
    {
     "data": {
      "text/html": [
       "<div>\n",
       "<style scoped>\n",
       "    .dataframe tbody tr th:only-of-type {\n",
       "        vertical-align: middle;\n",
       "    }\n",
       "\n",
       "    .dataframe tbody tr th {\n",
       "        vertical-align: top;\n",
       "    }\n",
       "\n",
       "    .dataframe thead th {\n",
       "        text-align: right;\n",
       "    }\n",
       "</style>\n",
       "<table border=\"1\" class=\"dataframe\">\n",
       "  <thead>\n",
       "    <tr style=\"text-align: right;\">\n",
       "      <th></th>\n",
       "      <th>STATE</th>\n",
       "      <th>MONTH</th>\n",
       "      <th>DAY</th>\n",
       "      <th>TWAY_ID</th>\n",
       "      <th>LATITUDE</th>\n",
       "      <th>LONGITUD</th>\n",
       "      <th>FATALS</th>\n",
       "    </tr>\n",
       "  </thead>\n",
       "  <tbody>\n",
       "    <tr>\n",
       "      <th>5281</th>\n",
       "      <td>8</td>\n",
       "      <td>1</td>\n",
       "      <td>12</td>\n",
       "      <td>I-25</td>\n",
       "      <td>38.644444</td>\n",
       "      <td>-104.694053</td>\n",
       "      <td>2</td>\n",
       "    </tr>\n",
       "    <tr>\n",
       "      <th>5296</th>\n",
       "      <td>8</td>\n",
       "      <td>1</td>\n",
       "      <td>29</td>\n",
       "      <td>I-25</td>\n",
       "      <td>40.950278</td>\n",
       "      <td>-104.924333</td>\n",
       "      <td>1</td>\n",
       "    </tr>\n",
       "    <tr>\n",
       "      <th>5354</th>\n",
       "      <td>8</td>\n",
       "      <td>3</td>\n",
       "      <td>29</td>\n",
       "      <td>I-25</td>\n",
       "      <td>39.894022</td>\n",
       "      <td>-104.987489</td>\n",
       "      <td>1</td>\n",
       "    </tr>\n",
       "    <tr>\n",
       "      <th>5378</th>\n",
       "      <td>8</td>\n",
       "      <td>4</td>\n",
       "      <td>1</td>\n",
       "      <td>I-25</td>\n",
       "      <td>39.972467</td>\n",
       "      <td>-104.988292</td>\n",
       "      <td>1</td>\n",
       "    </tr>\n",
       "    <tr>\n",
       "      <th>5391</th>\n",
       "      <td>8</td>\n",
       "      <td>4</td>\n",
       "      <td>15</td>\n",
       "      <td>I-25</td>\n",
       "      <td>40.230694</td>\n",
       "      <td>-104.980075</td>\n",
       "      <td>2</td>\n",
       "    </tr>\n",
       "  </tbody>\n",
       "</table>\n",
       "</div>"
      ],
      "text/plain": [
       "      STATE  MONTH  DAY TWAY_ID   LATITUDE    LONGITUD  FATALS\n",
       "5281      8      1   12    I-25  38.644444 -104.694053       2\n",
       "5296      8      1   29    I-25  40.950278 -104.924333       1\n",
       "5354      8      3   29    I-25  39.894022 -104.987489       1\n",
       "5378      8      4    1    I-25  39.972467 -104.988292       1\n",
       "5391      8      4   15    I-25  40.230694 -104.980075       2"
      ]
     },
     "execution_count": 65,
     "metadata": {},
     "output_type": "execute_result"
    }
   ],
   "source": [
    "fatal_way2_df = traffic_data[[\"STATE\", \"MONTH\", \"DAY\", \"TWAY_ID\", \"LATITUDE\", \"LONGITUD\", \"FATALS\"]]\n",
    "fatal_way2_df = fatal_way2_df.loc[fatal_way2_df['STATE'] == 8, :]\n",
    "fatal_way2_df = fatal_way2_df.loc[fatal_way2_df['TWAY_ID'] == \"I-25\", :]\n",
    "\n",
    "\n",
    "fatal_way2_df.head()"
   ]
  },
  {
   "cell_type": "code",
   "execution_count": 66,
   "metadata": {},
   "outputs": [
    {
     "data": {
      "application/vnd.jupyter.widget-view+json": {
       "model_id": "af3687e8e3a04f548ea391c6016f2930",
       "version_major": 2,
       "version_minor": 0
      },
      "text/plain": [
       "Figure(layout=FigureLayout(height='420px'))"
      ]
     },
     "metadata": {},
     "output_type": "display_data"
    }
   ],
   "source": [
    "marker_locations = fatal_way2_df[['LATITUDE', 'LONGITUD']]\n",
    "\n",
    "# Create a marker_layer using the poverty list to fill the info box\n",
    "fig = gmaps.figure()\n",
    "markers = gmaps.marker_layer(marker_locations)\n",
    "fig.add_layer(markers)\n",
    "fig"
   ]
  },
  {
   "cell_type": "code",
   "execution_count": null,
   "metadata": {},
   "outputs": [],
   "source": []
  }
 ],
 "metadata": {
  "kernelspec": {
   "display_name": "Python 3",
   "language": "python",
   "name": "python3"
  },
  "language_info": {
   "codemirror_mode": {
    "name": "ipython",
    "version": 3
   },
   "file_extension": ".py",
   "mimetype": "text/x-python",
   "name": "python",
   "nbconvert_exporter": "python",
   "pygments_lexer": "ipython3",
   "version": "3.6.5"
  }
 },
 "nbformat": 4,
 "nbformat_minor": 2
}
